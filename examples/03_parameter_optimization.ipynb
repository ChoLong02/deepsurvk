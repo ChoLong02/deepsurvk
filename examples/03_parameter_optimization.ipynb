{
 "cells": [
  {
   "cell_type": "markdown",
   "metadata": {},
   "source": [
    "Before we begin, we will change a few settings to make the notebook look a bit prettier"
   ]
  },
  {
   "cell_type": "code",
   "execution_count": null,
   "metadata": {
    "lines_to_next_cell": 2
   },
   "outputs": [],
   "source": [
    "%%html\n",
    "<style> body {font-family: \"Calibri\", cursive, sans-serif;} </style>"
   ]
  },
  {
   "cell_type": "markdown",
   "metadata": {},
   "source": [
    "\n",
    "# 03 - Parameter Optimization\n",
    "So far, we have used parameters that have been previously reported (namely\n",
    "in the original paper). However, more likely than not, you will be using\n",
    "data of your own, which will require tuning the model's hyperparameters.\n",
    "\n",
    "As we all know, hyperparameter tuning can be almost an art of itself. \n",
    "However, fortunately TensorFlow 2.0 has a hyperparameter tuner in\n",
    "form of [Keras Tuner](https://keras-team.github.io/keras-tuner/),\n",
    "In this notebook, we will see how this works in DeepSurvK.\n",
    "\n",
    "This notebook assumes that you have gone through the [basics of DeepSurv](./00_understanding_deepsurv.ipynb)\n",
    "as well as [DeepSurvK's basic usage](./00_using_deepsurvk.ipynb)\n",
    "\n",
    "## Preliminaries\n",
    "\n",
    "Import packages"
   ]
  },
  {
   "cell_type": "code",
   "execution_count": 1,
   "metadata": {
    "lines_to_next_cell": 2
   },
   "outputs": [],
   "source": [
    "import pathlib\n",
    "import numpy as np\n",
    "from sklearn.compose import ColumnTransformer\n",
    "from sklearn.preprocessing import StandardScaler\n",
    "import kerastuner as kt\n",
    "from kerastuner import HyperParameters\n",
    "from kerastuner.tuners import RandomSearch\n",
    "\n",
    "import deepsurvk\n",
    "from deepsurvk.datasets import load_rgbsg\n",
    "\n",
    "# import logzero\n",
    "# from logzero import logger"
   ]
  },
  {
   "cell_type": "markdown",
   "metadata": {},
   "source": [
    "Define paths."
   ]
  },
  {
   "cell_type": "code",
   "execution_count": 2,
   "metadata": {
    "lines_to_next_cell": 2
   },
   "outputs": [],
   "source": [
    "PATH_MODELS = pathlib.Path(f'./models/')\n",
    "\n",
    "# If models directory does not exist, create it.\n",
    "if not PATH_MODELS.exists():\n",
    "    PATH_MODELS.mkdir(parents=True)"
   ]
  },
  {
   "cell_type": "markdown",
   "metadata": {},
   "source": [
    "## Get data\n",
    "We will use the RGBSG dataset."
   ]
  },
  {
   "cell_type": "code",
   "execution_count": 4,
   "metadata": {},
   "outputs": [],
   "source": [
    "X_train, Y_train, E_train = load_rgbsg(partition='training')\n",
    "X_test, Y_test, E_test = load_rgbsg(partition='testing')\n",
    "\n",
    "# Calculate important parameters.\n",
    "n_patients_train = X_train.shape[0]\n",
    "n_features = X_train.shape[1]"
   ]
  },
  {
   "cell_type": "markdown",
   "metadata": {},
   "source": [
    "## Pre-process data"
   ]
  },
  {
   "cell_type": "code",
   "execution_count": 5,
   "metadata": {
    "lines_to_next_cell": 2
   },
   "outputs": [
    {
     "data": {
      "text/plain": [
       "ColumnTransformer(transformers=[('standardizer', StandardScaler(),\n",
       "                                 ['grade', 'age', 'n_positive_nodes',\n",
       "                                  'progesterone', 'estrogen'])])"
      ]
     },
     "execution_count": 5,
     "metadata": {},
     "output_type": "execute_result"
    }
   ],
   "source": [
    "# Standardization\n",
    "cols_standardize = ['grade', 'age', 'n_positive_nodes', 'progesterone', 'estrogen']\n",
    "X_ct = ColumnTransformer([('standardizer', StandardScaler(), cols_standardize)])\n",
    "X_ct.fit(X_train[cols_standardize])\n",
    "\n",
    "X_train[cols_standardize] = X_ct.transform(X_train[cols_standardize])\n",
    "X_test[cols_standardize] = X_ct.transform(X_test[cols_standardize])\n",
    "\n",
    "Y_scaler = StandardScaler().fit(Y_train)\n",
    "Y_train['T'] = Y_scaler.transform(Y_train)\n",
    "Y_test['T'] = Y_scaler.transform(Y_test)"
   ]
  },
  {
   "cell_type": "code",
   "execution_count": 6,
   "metadata": {
    "lines_to_next_cell": 2
   },
   "outputs": [],
   "source": [
    "# Sorting\n",
    "sort_idx = np.argsort(Y_train.to_numpy(), axis=None)[::-1]\n",
    "X_train = X_train.loc[sort_idx, :]\n",
    "Y_train = Y_train.loc[sort_idx, :]\n",
    "E_train = E_train.loc[sort_idx, :]"
   ]
  },
  {
   "cell_type": "markdown",
   "metadata": {},
   "source": [
    "## Hyperparameter tuning.\n",
    "The important part of this notebook.\n",
    "\n",
    "First, we need to create a HyperParameters object `hp`.\n",
    "Since `n_features` is crucial to the network's architecture, we will \n",
    "\"pack\" it into `hp`."
   ]
  },
  {
   "cell_type": "code",
   "execution_count": null,
   "metadata": {
    "lines_to_next_cell": 2
   },
   "outputs": [],
   "source": [
    "hp = HyperParameters()\n",
    "hp.Fixed(name='n_features', value=n_features)"
   ]
  },
  {
   "cell_type": "markdown",
   "metadata": {},
   "source": [
    "Then, we can "
   ]
  },
  {
   "cell_type": "code",
   "execution_count": null,
   "metadata": {},
   "outputs": [],
   "source": [
    "dsk_kt = deepsurvk.DeepSurvK_kt(hp)\n",
    "\n",
    "loss = deepsurvk.negative_log_likelihood(E_train)\n",
    "dsk_kt.compile(loss=loss)\n",
    "\n",
    "#%%%\n",
    "def c_index(y_true, y_pred):\n",
    "    \n",
    "    total = 0\n",
    "    matches = 0\n",
    "    for ii in range(len(y_true)):\n",
    "        for jj in range(len(y_true)):\n",
    "    \n",
    "            if y_true[jj] > 0 and abs(y_true[ii]) > y_true[jj]:\n",
    "                total += 1\n",
    "                if y_pred[jj] > y_pred[ii]:\n",
    "                    matches += 1\n",
    "    return matches/total"
   ]
  },
  {
   "cell_type": "code",
   "execution_count": null,
   "metadata": {},
   "outputs": [],
   "source": [
    "loss = deepsurvk.negative_log_likelihood(E_train)\n",
    "DeepSurvK_kt.compile(loss=loss)"
   ]
  },
  {
   "cell_type": "code",
   "execution_count": null,
   "metadata": {},
   "outputs": [],
   "source": [
    "def DeepSurvK_kt(hp):\n",
    "    \"\"\"\n",
    "    Create a Keras model using the DeepSurv architecture, as originally\n",
    "    proposed in [1]. This implementation uses (hyper)parameters as optimized\n",
    "    by Keras Tuner [2].\n",
    "    \n",
    "    Parameters\n",
    "    ----------\n",
    "    hp: instance of hyperparameters class\n",
    "        From where hyperparameters will be sampled.\n",
    "            \n",
    "    Returns\n",
    "    -------\n",
    "    model: Keras sequential model\n",
    "        \n",
    "    References\n",
    "    ----------\n",
    "    [1] Katzman, Jared L., et al. \"DeepSurv: personalized treatment recommender system using a Cox proportional hazards deep neural network.\" BMC medical research methodology 18.1 (2018): 24.\n",
    "    [2] https://keras-team.github.io/keras-tuner/\n",
    "    \"\"\"\n",
    "    \n",
    "    # Construct the (sequential) model.\n",
    "    model = Sequential()\n",
    "    \n",
    "    # model.add(Dense(units=hp['n_features'], activation=hp.Choice('activation_input', ['relu', 'selu']), kernel_initializer='glorot_uniform', input_shape=(hp['n_features'],), name='InputLayer'))\n",
    "    model.add(Dense(units=7, activation=hp.Choice('activation_input', ['relu', 'selu']), kernel_initializer='glorot_uniform', input_shape=(7,), name='InputLayer'))\n",
    "    model.add(Dropout(rate=hp.Float('dropout_input', min_value=0.0, max_value=0.75, step=0.05), name='DroputInput'))\n",
    "    \n",
    "    \n",
    "    # for i in range(hp.Int('num_layers', 2, 20)):\n",
    "    #     model.add(layers.Dense(units=hp.Int('units_' + str(i),\n",
    "    #                                         min_value=32,\n",
    "    #                                         max_value=512,\n",
    "    #                                         step=32),\n",
    "    #                            activation='relu'))\n",
    "    # model.add(layers.Dense(10, activation='softmax'))\n",
    "    # model.compile(\n",
    "    #     optimizer=keras.optimizers.Adam(\n",
    "    #         hp.Choice('learning_rate', [1e-2, 1e-3, 1e-4])),\n",
    "    #     loss='sparse_categorical_crossentropy',\n",
    "    #     metrics=['accuracy'])\n",
    "    # return model\n",
    "\n",
    "\n",
    "    # ###########\n",
    "    # # Validate inputs.\n",
    "    # if activation not in ['relu', 'selu']:\n",
    "    #     raise ValueError(f\"{activation} is not a valid activation function.\")\n",
    "        \n",
    "    # if optimizer not in ['nadam', 'sgd']:\n",
    "    #     raise ValueError(f\"{optimizer} is not a valid optimizer.\")\n",
    "        \n",
    "        \n",
    "    # # Construct the (sequential) model.\n",
    "    # model = Sequential()\n",
    "    \n",
    "    # # Input layer.\n",
    "    # model.add(Dense(units=n_features, activation=activation, kernel_initializer='glorot_uniform', input_shape=(n_features,), name='InputLayer'))\n",
    "    # model.add(Dropout(dropout, name='DroputInput'))\n",
    "    \n",
    "    \n",
    "    n_layers=2\n",
    "    n_nodes=25\n",
    "    activation='relu'\n",
    "    learning_rate=0.01\n",
    "    decay=1e-4\n",
    "    momentum=0.5\n",
    "    l2_reg=15\n",
    "    dropout=0.1\n",
    "    optimizer='nadam'\n",
    "    \n",
    "    # Hidden layers are identical between them. \n",
    "    # Therefore, we will create them in a loop.\n",
    "    for n_layer in range(n_layers):\n",
    "        model.add(Dense(units=n_nodes, activation=activation, kernel_initializer='glorot_uniform', name=f'HiddenLayer{n_layer+1}'))\n",
    "        model.add(Dropout(dropout, name=f'Dropout{n_layer+1}'))\n",
    "        \n",
    "    # Output layer.\n",
    "    model.add(Dense(units=1, activation='linear', kernel_initializer='glorot_uniform', kernel_regularizer=l2(l2_reg), name='OutputLayer'))\n",
    "    model.add(ActivityRegularization(l2=l2_reg, name='ActivityRegularization'))\n",
    "    \n",
    "    # Define the optimizer\n",
    "    if optimizer == 'nadam':\n",
    "        optimizer_ = Nadam(learning_rate=learning_rate, decay=decay)\n",
    "    elif optimizer == 'sgd':\n",
    "        optimizer_ = SGD(learning_rate=learning_rate, momentum=momentum, nesterov=True)\n",
    "    \n",
    "    # Compile the model.\n",
    "    # Since the loss function is data-dependent, for now we will\n",
    "    # only use a string as a place holder. Once the model is fit\n",
    "    # (and the data are available), the proper loss fuction will be defined.\n",
    "    #model.compile(loss='negative_log_likelihood', optimizer=optimizer_)\n",
    "    model.compile(loss='mean_squared_error', optimizer=optimizer_)\n",
    "    \n",
    "    return model\n"
   ]
  },
  {
   "cell_type": "code",
   "execution_count": 9,
   "metadata": {},
   "outputs": [],
   "source": [
    "import tensorflow as tf\n",
    "from tensorflow.keras.models import Sequential\n",
    "from tensorflow.keras.layers import Dense, Dropout, ActivityRegularization\n",
    "from tensorflow.keras.optimizers import SGD, Nadam, RMSprop\n",
    "from tensorflow.keras.regularizers import l2"
   ]
  },
  {
   "cell_type": "code",
   "execution_count": 22,
   "metadata": {},
   "outputs": [],
   "source": [
    "import os\n",
    "\n",
    "tuner = RandomSearch(DeepSurvK_kt, \n",
    "                     #objective=kt.Objective(\"c_index\", direction=\"max\"),\n",
    "                     objective='val_loss',\n",
    "                     max_trials=5,\n",
    "                     executions_per_trial=3,\n",
    "                     directory=os.path.normpath(\"C:\\\\\"),\n",
    "                     project_name='05_deepsurvk')"
   ]
  },
  {
   "cell_type": "code",
   "execution_count": 23,
   "metadata": {},
   "outputs": [
    {
     "data": {
      "text/html": [
       "<span style=\"color:#4527A0\"><h1 style=\"font-size:18px\">Search space summary</h1></span>"
      ],
      "text/plain": [
       "<IPython.core.display.HTML object>"
      ]
     },
     "metadata": {},
     "output_type": "display_data"
    },
    {
     "data": {
      "text/html": [
       "<span style=\"color:cyan\"> |-Default search space size: 2</span>"
      ],
      "text/plain": [
       "<IPython.core.display.HTML object>"
      ]
     },
     "metadata": {},
     "output_type": "display_data"
    },
    {
     "data": {
      "text/html": [
       "<span style=\"color:#7E57C2\"><h2 style=\"font-size:16px\">activation_input (Choice)</h2></span>"
      ],
      "text/plain": [
       "<IPython.core.display.HTML object>"
      ]
     },
     "metadata": {},
     "output_type": "display_data"
    },
    {
     "data": {
      "text/html": [
       "<span style=\"color:cyan\"> |-default: relu</span>"
      ],
      "text/plain": [
       "<IPython.core.display.HTML object>"
      ]
     },
     "metadata": {},
     "output_type": "display_data"
    },
    {
     "data": {
      "text/html": [
       "<span style=\"color:blue\"> |-ordered: False</span>"
      ],
      "text/plain": [
       "<IPython.core.display.HTML object>"
      ]
     },
     "metadata": {},
     "output_type": "display_data"
    },
    {
     "data": {
      "text/html": [
       "<span style=\"color:cyan\"> |-values: ['relu', 'selu']</span>"
      ],
      "text/plain": [
       "<IPython.core.display.HTML object>"
      ]
     },
     "metadata": {},
     "output_type": "display_data"
    },
    {
     "data": {
      "text/html": [
       "<span style=\"color:#7E57C2\"><h2 style=\"font-size:16px\">dropout_input (Float)</h2></span>"
      ],
      "text/plain": [
       "<IPython.core.display.HTML object>"
      ]
     },
     "metadata": {},
     "output_type": "display_data"
    },
    {
     "data": {
      "text/html": [
       "<span style=\"color:cyan\"> |-default: 0.0</span>"
      ],
      "text/plain": [
       "<IPython.core.display.HTML object>"
      ]
     },
     "metadata": {},
     "output_type": "display_data"
    },
    {
     "data": {
      "text/html": [
       "<span style=\"color:blue\"> |-max_value: 0.75</span>"
      ],
      "text/plain": [
       "<IPython.core.display.HTML object>"
      ]
     },
     "metadata": {},
     "output_type": "display_data"
    },
    {
     "data": {
      "text/html": [
       "<span style=\"color:cyan\"> |-min_value: 0.0</span>"
      ],
      "text/plain": [
       "<IPython.core.display.HTML object>"
      ]
     },
     "metadata": {},
     "output_type": "display_data"
    },
    {
     "data": {
      "text/html": [
       "<span style=\"color:blue\"> |-sampling: None</span>"
      ],
      "text/plain": [
       "<IPython.core.display.HTML object>"
      ]
     },
     "metadata": {},
     "output_type": "display_data"
    },
    {
     "data": {
      "text/html": [
       "<span style=\"color:cyan\"> |-step: 0.05</span>"
      ],
      "text/plain": [
       "<IPython.core.display.HTML object>"
      ]
     },
     "metadata": {},
     "output_type": "display_data"
    },
    {
     "name": "stdout",
     "output_type": "stream",
     "text": [
      "Epoch 1/5\n",
      "49/49 [==============================] - ETA: 0s - loss: 87.43 - ETA: 0s - loss: 19.94 - 0s 4ms/step - loss: 17.3557 - val_loss: 3.3325\n",
      "Epoch 2/5\n",
      "49/49 [==============================] - ETA: 0s - loss: 4.004 - ETA: 0s - loss: 2.100 - 0s 3ms/step - loss: 1.9434 - val_loss: 0.7944\n",
      "Epoch 3/5\n",
      "49/49 [==============================] - ETA: 0s - loss: 1.082 - ETA: 0s - loss: 1.083 - 0s 3ms/step - loss: 1.0536 - val_loss: 0.6556\n",
      "Epoch 4/5\n",
      "49/49 [==============================] - ETA: 0s - loss: 0.855 - ETA: 0s - loss: 0.999 - 0s 3ms/step - loss: 1.0027 - val_loss: 0.6523\n",
      "Epoch 5/5\n",
      "49/49 [==============================] - ETA: 0s - loss: 1.009 - ETA: 0s - loss: 0.996 - 0s 2ms/step - loss: 1.0004 - val_loss: 0.6557\n",
      "Epoch 1/5\n",
      "49/49 [==============================] - ETA: 0s - loss: 33.24 - ETA: 0s - loss: 12.15 - 0s 4ms/step - loss: 9.8794 - val_loss: 1.3701\n",
      "Epoch 2/5\n",
      "49/49 [==============================] - ETA: 0s - loss: 1.798 - ETA: 0s - loss: 1.204 - 0s 2ms/step - loss: 1.1581 - val_loss: 0.6527\n",
      "Epoch 3/5\n",
      "49/49 [==============================] - ETA: 0s - loss: 0.936 - ETA: 0s - loss: 1.000 - 0s 3ms/step - loss: 1.0004 - val_loss: 0.6513\n",
      "Epoch 4/5\n",
      "49/49 [==============================] - ETA: 0s - loss: 0.979 - ETA: 0s - loss: 0.993 - 0s 3ms/step - loss: 1.0005 - val_loss: 0.6494\n",
      "Epoch 5/5\n",
      "49/49 [==============================] - ETA: 0s - loss: 0.875 - ETA: 0s - loss: 0.996 - 0s 2ms/step - loss: 1.0004 - val_loss: 0.6501\n",
      "Epoch 1/5\n",
      "49/49 [==============================] - ETA: 0s - loss: 45.48 - ETA: 0s - loss: 19.37 - 0s 4ms/step - loss: 17.3240 - val_loss: 4.5083\n",
      "Epoch 2/5\n",
      "49/49 [==============================] - ETA: 0s - loss: 5.130 - ETA: 0s - loss: 3.038 - 0s 2ms/step - loss: 2.6893 - val_loss: 1.1047\n",
      "Epoch 3/5\n",
      "49/49 [==============================] - ETA: 0s - loss: 1.409 - ETA: 0s - loss: 1.227 - 0s 2ms/step - loss: 1.1831 - val_loss: 0.6877\n",
      "Epoch 4/5\n",
      "49/49 [==============================] - ETA: 0s - loss: 0.952 - ETA: 0s - loss: 1.011 - 0s 2ms/step - loss: 1.0138 - val_loss: 0.6500\n",
      "Epoch 5/5\n",
      "49/49 [==============================] - ETA: 0s - loss: 1.090 - ETA: 0s - loss: 1.000 - 0s 3ms/step - loss: 1.0006 - val_loss: 0.6525\n"
     ]
    },
    {
     "data": {
      "text/html": [
       "<span style=\"color:#4527A0\"><h1 style=\"font-size:18px\">Trial complete</h1></span>"
      ],
      "text/plain": [
       "<IPython.core.display.HTML object>"
      ]
     },
     "metadata": {},
     "output_type": "display_data"
    },
    {
     "data": {
      "text/html": [
       "<span style=\"color:#4527A0\"><h1 style=\"font-size:18px\">Trial summary</h1></span>"
      ],
      "text/plain": [
       "<IPython.core.display.HTML object>"
      ]
     },
     "metadata": {},
     "output_type": "display_data"
    },
    {
     "data": {
      "text/html": [
       "<span style=\"color:cyan\"> |-Trial ID: 37f4f66e3e3359557460aaea288217c4</span>"
      ],
      "text/plain": [
       "<IPython.core.display.HTML object>"
      ]
     },
     "metadata": {},
     "output_type": "display_data"
    },
    {
     "data": {
      "text/html": [
       "<span style=\"color:cyan\"> |-Score: 0.6505590677261353</span>"
      ],
      "text/plain": [
       "<IPython.core.display.HTML object>"
      ]
     },
     "metadata": {},
     "output_type": "display_data"
    },
    {
     "data": {
      "text/html": [
       "<span style=\"color:cyan\"> |-Best step: 0</span>"
      ],
      "text/plain": [
       "<IPython.core.display.HTML object>"
      ]
     },
     "metadata": {},
     "output_type": "display_data"
    },
    {
     "data": {
      "text/html": [
       "<span style=\"color:#7E57C2\"><h2 style=\"font-size:16px\">Hyperparameters:</h2></span>"
      ],
      "text/plain": [
       "<IPython.core.display.HTML object>"
      ]
     },
     "metadata": {},
     "output_type": "display_data"
    },
    {
     "data": {
      "text/html": [
       "<span style=\"color:cyan\"> |-activation_input: selu</span>"
      ],
      "text/plain": [
       "<IPython.core.display.HTML object>"
      ]
     },
     "metadata": {},
     "output_type": "display_data"
    },
    {
     "data": {
      "text/html": [
       "<span style=\"color:blue\"> |-dropout_input: 0.7000000000000001</span>"
      ],
      "text/plain": [
       "<IPython.core.display.HTML object>"
      ]
     },
     "metadata": {},
     "output_type": "display_data"
    },
    {
     "name": "stdout",
     "output_type": "stream",
     "text": [
      "Epoch 1/5\n",
      "49/49 [==============================] - ETA: 0s - loss: 35.66 - ETA: 0s - loss: 15.33 - 0s 5ms/step - loss: 12.1403 - val_loss: 1.5255\n",
      "Epoch 2/5\n",
      "49/49 [==============================] - ETA: 0s - loss: 1.831 - ETA: 0s - loss: 1.244 - 0s 3ms/step - loss: 1.1865 - val_loss: 0.6578\n",
      "Epoch 3/5\n",
      "49/49 [==============================] - ETA: 0s - loss: 1.094 - ETA: 0s - loss: 1.003 - 0s 3ms/step - loss: 1.0006 - val_loss: 0.6450\n",
      "Epoch 4/5\n",
      "49/49 [==============================] - ETA: 0s - loss: 0.813 - ETA: 0s - loss: 1.006 - 0s 2ms/step - loss: 1.0004 - val_loss: 0.6554\n",
      "Epoch 5/5\n",
      "49/49 [==============================] - ETA: 0s - loss: 1.047 - ETA: 0s - loss: 1.004 - 0s 2ms/step - loss: 1.0005 - val_loss: 0.6557\n",
      "Epoch 1/5\n",
      "49/49 [==============================] - ETA: 0s - loss: 37.77 - ETA: 0s - loss: 14.80 - 0s 4ms/step - loss: 12.6734 - val_loss: 1.4368\n",
      "Epoch 2/5\n",
      "49/49 [==============================] - ETA: 0s - loss: 1.898 - ETA: 0s - loss: 1.177 - 0s 2ms/step - loss: 1.1517 - val_loss: 0.6578\n",
      "Epoch 3/5\n",
      "49/49 [==============================] - ETA: 0s - loss: 1.007 - ETA: 0s - loss: 1.009 - 0s 2ms/step - loss: 1.0007 - val_loss: 0.6470\n",
      "Epoch 4/5\n",
      "49/49 [==============================] - ETA: 0s - loss: 0.959 - ETA: 0s - loss: 1.003 - 0s 2ms/step - loss: 1.0008 - val_loss: 0.6528\n",
      "Epoch 5/5\n",
      "49/49 [==============================] - ETA: 0s - loss: 1.246 - ETA: 0s - loss: 1.001 - 0s 2ms/step - loss: 1.0004 - val_loss: 0.6514\n",
      "Epoch 1/5\n",
      "49/49 [==============================] - ETA: 0s - loss: 32.42 - ETA: 0s - loss: 13.02 - 0s 4ms/step - loss: 11.1452 - val_loss: 1.2829\n",
      "Epoch 2/5\n",
      "49/49 [==============================] - ETA: 0s - loss: 1.680 - ETA: 0s - loss: 1.141 - 0s 2ms/step - loss: 1.1196 - val_loss: 0.6639\n",
      "Epoch 3/5\n",
      "49/49 [==============================] - ETA: 0s - loss: 0.845 - ETA: 0s - loss: 1.001 - 0s 3ms/step - loss: 1.0008 - val_loss: 0.6448\n",
      "Epoch 4/5\n",
      "49/49 [==============================] - ETA: 0s - loss: 0.789 - ETA: 0s - loss: 0.987 - 0s 2ms/step - loss: 1.0001 - val_loss: 0.6501\n",
      "Epoch 5/5\n",
      "49/49 [==============================] - ETA: 0s - loss: 1.242 - ETA: 0s - loss: 0.997 - 0s 2ms/step - loss: 1.0005 - val_loss: 0.6537\n"
     ]
    },
    {
     "data": {
      "text/html": [
       "<span style=\"color:#4527A0\"><h1 style=\"font-size:18px\">Trial complete</h1></span>"
      ],
      "text/plain": [
       "<IPython.core.display.HTML object>"
      ]
     },
     "metadata": {},
     "output_type": "display_data"
    },
    {
     "data": {
      "text/html": [
       "<span style=\"color:#4527A0\"><h1 style=\"font-size:18px\">Trial summary</h1></span>"
      ],
      "text/plain": [
       "<IPython.core.display.HTML object>"
      ]
     },
     "metadata": {},
     "output_type": "display_data"
    },
    {
     "data": {
      "text/html": [
       "<span style=\"color:cyan\"> |-Trial ID: a44824f426fe716d075801d6b8a29d68</span>"
      ],
      "text/plain": [
       "<IPython.core.display.HTML object>"
      ]
     },
     "metadata": {},
     "output_type": "display_data"
    },
    {
     "data": {
      "text/html": [
       "<span style=\"color:cyan\"> |-Score: 0.6455913384755453</span>"
      ],
      "text/plain": [
       "<IPython.core.display.HTML object>"
      ]
     },
     "metadata": {},
     "output_type": "display_data"
    },
    {
     "data": {
      "text/html": [
       "<span style=\"color:cyan\"> |-Best step: 0</span>"
      ],
      "text/plain": [
       "<IPython.core.display.HTML object>"
      ]
     },
     "metadata": {},
     "output_type": "display_data"
    },
    {
     "data": {
      "text/html": [
       "<span style=\"color:#7E57C2\"><h2 style=\"font-size:16px\">Hyperparameters:</h2></span>"
      ],
      "text/plain": [
       "<IPython.core.display.HTML object>"
      ]
     },
     "metadata": {},
     "output_type": "display_data"
    },
    {
     "data": {
      "text/html": [
       "<span style=\"color:cyan\"> |-activation_input: relu</span>"
      ],
      "text/plain": [
       "<IPython.core.display.HTML object>"
      ]
     },
     "metadata": {},
     "output_type": "display_data"
    },
    {
     "data": {
      "text/html": [
       "<span style=\"color:blue\"> |-dropout_input: 0.35000000000000003</span>"
      ],
      "text/plain": [
       "<IPython.core.display.HTML object>"
      ]
     },
     "metadata": {},
     "output_type": "display_data"
    },
    {
     "name": "stdout",
     "output_type": "stream",
     "text": [
      "Epoch 1/5\n",
      "49/49 [==============================] - ETA: 0s - loss: 26.95 - ETA: 0s - loss: 11.72 - 0s 6ms/step - loss: 8.8474 - val_loss: 0.9864\n",
      "Epoch 2/5\n",
      "49/49 [==============================] - ETA: 0s - loss: 1.489 - ETA: 0s - loss: 1.071 - 0s 3ms/step - loss: 1.0525 - val_loss: 0.6515\n",
      "Epoch 3/5\n",
      "49/49 [==============================] - ETA: 0s - loss: 1.079 - ETA: 0s - loss: 0.998 - 0s 2ms/step - loss: 1.0009 - val_loss: 0.6593\n",
      "Epoch 4/5\n",
      "49/49 [==============================] - ETA: 0s - loss: 1.097 - ETA: 0s - loss: 1.000 - 0s 3ms/step - loss: 0.9997 - val_loss: 0.6483\n",
      "Epoch 5/5\n",
      "49/49 [==============================] - ETA: 0s - loss: 1.128 - ETA: 0s - loss: 0.996 - 0s 3ms/step - loss: 1.0001 - val_loss: 0.6482\n",
      "Epoch 1/5\n",
      "49/49 [==============================] - ETA: 0s - loss: 55.03 - ETA: 0s - loss: 19.25 - 0s 4ms/step - loss: 16.3563 - val_loss: 2.6693\n",
      "Epoch 2/5\n",
      "49/49 [==============================] - ETA: 0s - loss: 3.077 - ETA: 0s - loss: 1.618 - 0s 2ms/step - loss: 1.5122 - val_loss: 0.6775\n",
      "Epoch 3/5\n",
      "49/49 [==============================] - ETA: 0s - loss: 0.933 - ETA: 0s - loss: 1.002 - 0s 2ms/step - loss: 1.0050 - val_loss: 0.6574\n",
      "Epoch 4/5\n",
      "49/49 [==============================] - ETA: 0s - loss: 1.077 - ETA: 0s - loss: 0.998 - 0s 2ms/step - loss: 1.0001 - val_loss: 0.6664\n",
      "Epoch 5/5\n",
      "49/49 [==============================] - ETA: 0s - loss: 0.994 - ETA: 0s - loss: 0.996 - 0s 2ms/step - loss: 0.9996 - val_loss: 0.6532\n",
      "Epoch 1/5\n",
      "49/49 [==============================] - ETA: 0s - loss: 24.91 - ETA: 0s - loss: 9.2376 - 0s 4ms/step - loss: 8.2475 - val_loss: 1.0589\n",
      "Epoch 2/5\n",
      "49/49 [==============================] - ETA: 0s - loss: 1.286 - ETA: 0s - loss: 1.090 - 0s 2ms/step - loss: 1.0722 - val_loss: 0.6640\n",
      "Epoch 3/5\n",
      "49/49 [==============================] - ETA: 0s - loss: 1.002 - ETA: 0s - loss: 1.000 - 0s 2ms/step - loss: 1.0003 - val_loss: 0.6579\n",
      "Epoch 4/5\n",
      "49/49 [==============================] - ETA: 0s - loss: 0.997 - ETA: 0s - loss: 1.011 - 0s 2ms/step - loss: 1.0001 - val_loss: 0.6589\n",
      "Epoch 5/5\n",
      "49/49 [==============================] - ETA: 0s - loss: 1.098 - ETA: 0s - loss: 1.014 - 0s 2ms/step - loss: 0.9993 - val_loss: 0.6590\n"
     ]
    },
    {
     "data": {
      "text/html": [
       "<span style=\"color:#4527A0\"><h1 style=\"font-size:18px\">Trial complete</h1></span>"
      ],
      "text/plain": [
       "<IPython.core.display.HTML object>"
      ]
     },
     "metadata": {},
     "output_type": "display_data"
    },
    {
     "data": {
      "text/html": [
       "<span style=\"color:#4527A0\"><h1 style=\"font-size:18px\">Trial summary</h1></span>"
      ],
      "text/plain": [
       "<IPython.core.display.HTML object>"
      ]
     },
     "metadata": {},
     "output_type": "display_data"
    },
    {
     "data": {
      "text/html": [
       "<span style=\"color:cyan\"> |-Trial ID: fc7aaedcaea99f312d525d35c181aa56</span>"
      ],
      "text/plain": [
       "<IPython.core.display.HTML object>"
      ]
     },
     "metadata": {},
     "output_type": "display_data"
    },
    {
     "data": {
      "text/html": [
       "<span style=\"color:cyan\"> |-Score: 0.6531088948249817</span>"
      ],
      "text/plain": [
       "<IPython.core.display.HTML object>"
      ]
     },
     "metadata": {},
     "output_type": "display_data"
    },
    {
     "data": {
      "text/html": [
       "<span style=\"color:cyan\"> |-Best step: 0</span>"
      ],
      "text/plain": [
       "<IPython.core.display.HTML object>"
      ]
     },
     "metadata": {},
     "output_type": "display_data"
    },
    {
     "data": {
      "text/html": [
       "<span style=\"color:#7E57C2\"><h2 style=\"font-size:16px\">Hyperparameters:</h2></span>"
      ],
      "text/plain": [
       "<IPython.core.display.HTML object>"
      ]
     },
     "metadata": {},
     "output_type": "display_data"
    },
    {
     "data": {
      "text/html": [
       "<span style=\"color:cyan\"> |-activation_input: relu</span>"
      ],
      "text/plain": [
       "<IPython.core.display.HTML object>"
      ]
     },
     "metadata": {},
     "output_type": "display_data"
    },
    {
     "data": {
      "text/html": [
       "<span style=\"color:blue\"> |-dropout_input: 0.05</span>"
      ],
      "text/plain": [
       "<IPython.core.display.HTML object>"
      ]
     },
     "metadata": {},
     "output_type": "display_data"
    },
    {
     "name": "stdout",
     "output_type": "stream",
     "text": [
      "Epoch 1/5\n",
      "49/49 [==============================] - ETA: 0s - loss: 39.35 - ETA: 0s - loss: 20.53 - 0s 6ms/step - loss: 14.7703 - val_loss: 1.9903\n",
      "Epoch 2/5\n",
      "49/49 [==============================] - ETA: 0s - loss: 2.346 - ETA: 0s - loss: 1.428 - 0s 4ms/step - loss: 1.2936 - val_loss: 0.6477\n",
      "Epoch 3/5\n",
      "49/49 [==============================] - ETA: 0s - loss: 1.191 - ETA: 0s - loss: 1.010 - 0s 3ms/step - loss: 1.0010 - val_loss: 0.6509\n",
      "Epoch 4/5\n",
      "49/49 [==============================] - ETA: 0s - loss: 0.981 - ETA: 0s - loss: 1.012 - 0s 3ms/step - loss: 1.0008 - val_loss: 0.6564\n",
      "Epoch 5/5\n",
      "49/49 [==============================] - ETA: 0s - loss: 1.147 - ETA: 0s - loss: 1.007 - 0s 3ms/step - loss: 1.0006 - val_loss: 0.6563\n",
      "Epoch 1/5\n",
      "49/49 [==============================] - ETA: 0s - loss: 27.16 - ETA: 0s - loss: 8.5394 - 0s 4ms/step - loss: 7.4564 - val_loss: 0.8743\n",
      "Epoch 2/5\n",
      "49/49 [==============================] - ETA: 0s - loss: 1.424 - ETA: 0s - loss: 1.092 - 0s 3ms/step - loss: 1.0368 - val_loss: 0.6501\n",
      "Epoch 3/5\n",
      "49/49 [==============================] - ETA: 0s - loss: 0.920 - ETA: 0s - loss: 0.989 - 0s 3ms/step - loss: 1.0005 - val_loss: 0.6525\n",
      "Epoch 4/5\n",
      "49/49 [==============================] - ETA: 0s - loss: 1.108 - ETA: 0s - loss: 0.984 - 0s 3ms/step - loss: 1.0005 - val_loss: 0.6599\n",
      "Epoch 5/5\n",
      "49/49 [==============================] - ETA: 0s - loss: 0.865 - ETA: 0s - loss: 1.003 - 0s 4ms/step - loss: 1.0005 - val_loss: 0.6466\n",
      "Epoch 1/5\n",
      "49/49 [==============================] - ETA: 0s - loss: 35.90 - ETA: 0s - loss: 15.18 - 0s 4ms/step - loss: 12.7851 - val_loss: 1.5618\n",
      "Epoch 2/5\n",
      "49/49 [==============================] - ETA: 0s - loss: 1.992 - ETA: 0s - loss: 1.231 - 0s 2ms/step - loss: 1.1862 - val_loss: 0.6562\n",
      "Epoch 3/5\n",
      "49/49 [==============================] - ETA: 0s - loss: 0.782 - ETA: 0s - loss: 0.998 - 0s 2ms/step - loss: 1.0006 - val_loss: 0.6589\n",
      "Epoch 4/5\n",
      "49/49 [==============================] - ETA: 0s - loss: 1.074 - ETA: 0s - loss: 1.001 - 0s 2ms/step - loss: 1.0005 - val_loss: 0.6542\n",
      "Epoch 5/5\n",
      "49/49 [==============================] - ETA: 0s - loss: 1.065 - ETA: 0s - loss: 0.999 - 0s 2ms/step - loss: 1.0005 - val_loss: 0.6533\n"
     ]
    },
    {
     "data": {
      "text/html": [
       "<span style=\"color:#4527A0\"><h1 style=\"font-size:18px\">Trial complete</h1></span>"
      ],
      "text/plain": [
       "<IPython.core.display.HTML object>"
      ]
     },
     "metadata": {},
     "output_type": "display_data"
    },
    {
     "data": {
      "text/html": [
       "<span style=\"color:#4527A0\"><h1 style=\"font-size:18px\">Trial summary</h1></span>"
      ],
      "text/plain": [
       "<IPython.core.display.HTML object>"
      ]
     },
     "metadata": {},
     "output_type": "display_data"
    },
    {
     "data": {
      "text/html": [
       "<span style=\"color:cyan\"> |-Trial ID: ad7dbb76269918d0e2da30013b34b880</span>"
      ],
      "text/plain": [
       "<IPython.core.display.HTML object>"
      ]
     },
     "metadata": {},
     "output_type": "display_data"
    },
    {
     "data": {
      "text/html": [
       "<span style=\"color:cyan\"> |-Score: 0.6492112477620443</span>"
      ],
      "text/plain": [
       "<IPython.core.display.HTML object>"
      ]
     },
     "metadata": {},
     "output_type": "display_data"
    },
    {
     "data": {
      "text/html": [
       "<span style=\"color:cyan\"> |-Best step: 0</span>"
      ],
      "text/plain": [
       "<IPython.core.display.HTML object>"
      ]
     },
     "metadata": {},
     "output_type": "display_data"
    },
    {
     "data": {
      "text/html": [
       "<span style=\"color:#7E57C2\"><h2 style=\"font-size:16px\">Hyperparameters:</h2></span>"
      ],
      "text/plain": [
       "<IPython.core.display.HTML object>"
      ]
     },
     "metadata": {},
     "output_type": "display_data"
    },
    {
     "data": {
      "text/html": [
       "<span style=\"color:cyan\"> |-activation_input: relu</span>"
      ],
      "text/plain": [
       "<IPython.core.display.HTML object>"
      ]
     },
     "metadata": {},
     "output_type": "display_data"
    },
    {
     "data": {
      "text/html": [
       "<span style=\"color:blue\"> |-dropout_input: 0.7000000000000001</span>"
      ],
      "text/plain": [
       "<IPython.core.display.HTML object>"
      ]
     },
     "metadata": {},
     "output_type": "display_data"
    },
    {
     "name": "stdout",
     "output_type": "stream",
     "text": [
      "Epoch 1/5\n",
      "49/49 [==============================] - ETA: 0s - loss: 28.57 - ETA: 0s - loss: 9.4031 - 0s 5ms/step - loss: 7.9051 - val_loss: 0.9789\n",
      "Epoch 2/5\n",
      "49/49 [==============================] - ETA: 0s - loss: 1.376 - ETA: 0s - loss: 1.059 - 0s 3ms/step - loss: 1.0557 - val_loss: 0.6504\n",
      "Epoch 3/5\n",
      "49/49 [==============================] - ETA: 0s - loss: 0.977 - ETA: 0s - loss: 1.009 - 0s 3ms/step - loss: 1.0002 - val_loss: 0.6511\n",
      "Epoch 4/5\n",
      "49/49 [==============================] - ETA: 0s - loss: 1.127 - ETA: 0s - loss: 1.000 - 0s 3ms/step - loss: 1.0003 - val_loss: 0.6519\n",
      "Epoch 5/5\n",
      "49/49 [==============================] - ETA: 0s - loss: 1.323 - ETA: 0s - loss: 0.997 - 0s 3ms/step - loss: 1.0002 - val_loss: 0.6504\n",
      "Epoch 1/5\n",
      "49/49 [==============================] - ETA: 0s - loss: 28.06 - ETA: 0s - loss: 10.57 - 0s 5ms/step - loss: 8.6487 - val_loss: 1.3671\n",
      "Epoch 2/5\n",
      "49/49 [==============================] - ETA: 0s - loss: 1.767 - ETA: 0s - loss: 1.232 - 0s 3ms/step - loss: 1.1643 - val_loss: 0.6609\n",
      "Epoch 3/5\n",
      "49/49 [==============================] - ETA: 0s - loss: 1.011 - ETA: 0s - loss: 1.022 - 0s 3ms/step - loss: 1.0010 - val_loss: 0.6482\n",
      "Epoch 4/5\n",
      "49/49 [==============================] - ETA: 0s - loss: 0.982 - ETA: 0s - loss: 0.999 - 0s 3ms/step - loss: 1.0004 - val_loss: 0.6505\n",
      "Epoch 5/5\n",
      "49/49 [==============================] - ETA: 0s - loss: 1.116 - ETA: 0s - loss: 1.005 - 0s 4ms/step - loss: 1.0004 - val_loss: 0.6473\n",
      "Epoch 1/5\n",
      "49/49 [==============================] - ETA: 0s - loss: 30.78 - ETA: 0s - loss: 15.41 - 0s 5ms/step - loss: 11.3997 - val_loss: 1.7582\n",
      "Epoch 2/5\n",
      "49/49 [==============================] - ETA: 0s - loss: 2.117 - ETA: 0s - loss: 1.428 - 0s 3ms/step - loss: 1.2742 - val_loss: 0.6649\n",
      "Epoch 3/5\n",
      "49/49 [==============================] - ETA: 0s - loss: 1.013 - ETA: 0s - loss: 1.001 - 0s 3ms/step - loss: 1.0028 - val_loss: 0.6611\n",
      "Epoch 4/5\n",
      "49/49 [==============================] - ETA: 0s - loss: 1.138 - ETA: 0s - loss: 0.987 - 0s 3ms/step - loss: 1.0009 - val_loss: 0.6512\n",
      "Epoch 5/5\n",
      "49/49 [==============================] - ETA: 0s - loss: 0.811 - ETA: 0s - loss: 0.986 - 0s 3ms/step - loss: 1.0004 - val_loss: 0.6548\n"
     ]
    },
    {
     "data": {
      "text/html": [
       "<span style=\"color:#4527A0\"><h1 style=\"font-size:18px\">Trial complete</h1></span>"
      ],
      "text/plain": [
       "<IPython.core.display.HTML object>"
      ]
     },
     "metadata": {},
     "output_type": "display_data"
    },
    {
     "data": {
      "text/html": [
       "<span style=\"color:#4527A0\"><h1 style=\"font-size:18px\">Trial summary</h1></span>"
      ],
      "text/plain": [
       "<IPython.core.display.HTML object>"
      ]
     },
     "metadata": {},
     "output_type": "display_data"
    },
    {
     "data": {
      "text/html": [
       "<span style=\"color:cyan\"> |-Trial ID: 7b410777aa900c3bbc90e685e5c47af8</span>"
      ],
      "text/plain": [
       "<IPython.core.display.HTML object>"
      ]
     },
     "metadata": {},
     "output_type": "display_data"
    },
    {
     "data": {
      "text/html": [
       "<span style=\"color:cyan\"> |-Score: 0.6496395071347555</span>"
      ],
      "text/plain": [
       "<IPython.core.display.HTML object>"
      ]
     },
     "metadata": {},
     "output_type": "display_data"
    },
    {
     "data": {
      "text/html": [
       "<span style=\"color:cyan\"> |-Best step: 0</span>"
      ],
      "text/plain": [
       "<IPython.core.display.HTML object>"
      ]
     },
     "metadata": {},
     "output_type": "display_data"
    },
    {
     "data": {
      "text/html": [
       "<span style=\"color:#7E57C2\"><h2 style=\"font-size:16px\">Hyperparameters:</h2></span>"
      ],
      "text/plain": [
       "<IPython.core.display.HTML object>"
      ]
     },
     "metadata": {},
     "output_type": "display_data"
    },
    {
     "data": {
      "text/html": [
       "<span style=\"color:cyan\"> |-activation_input: selu</span>"
      ],
      "text/plain": [
       "<IPython.core.display.HTML object>"
      ]
     },
     "metadata": {},
     "output_type": "display_data"
    },
    {
     "data": {
      "text/html": [
       "<span style=\"color:blue\"> |-dropout_input: 0.5</span>"
      ],
      "text/plain": [
       "<IPython.core.display.HTML object>"
      ]
     },
     "metadata": {},
     "output_type": "display_data"
    },
    {
     "name": "stdout",
     "output_type": "stream",
     "text": [
      "INFO:tensorflow:Oracle triggered exit\n"
     ]
    }
   ],
   "source": [
    "tuner.search_space_summary()\n",
    "\n",
    "tuner.search(X_train, Y_train, epochs=5, validation_data=(X_test, Y_test))\n",
    "\n"
   ]
  },
  {
   "cell_type": "code",
   "execution_count": 24,
   "metadata": {},
   "outputs": [
    {
     "data": {
      "text/html": [
       "<span style=\"color:#4527A0\"><h1 style=\"font-size:18px\">Results summary</h1></span>"
      ],
      "text/plain": [
       "<IPython.core.display.HTML object>"
      ]
     },
     "metadata": {},
     "output_type": "display_data"
    },
    {
     "data": {
      "text/html": [
       "<span style=\"color:cyan\"> |-Results in C:\\05_deepsurvk</span>"
      ],
      "text/plain": [
       "<IPython.core.display.HTML object>"
      ]
     },
     "metadata": {},
     "output_type": "display_data"
    },
    {
     "data": {
      "text/html": [
       "<span style=\"color:cyan\"> |-Showing 10 best trials</span>"
      ],
      "text/plain": [
       "<IPython.core.display.HTML object>"
      ]
     },
     "metadata": {},
     "output_type": "display_data"
    },
    {
     "data": {
      "text/html": [
       "<span style=\"color:cyan\"> |-Objective(name='val_loss', direction='min')</span>"
      ],
      "text/plain": [
       "<IPython.core.display.HTML object>"
      ]
     },
     "metadata": {},
     "output_type": "display_data"
    },
    {
     "data": {
      "text/html": [
       "<span style=\"color:#4527A0\"><h1 style=\"font-size:18px\">Trial summary</h1></span>"
      ],
      "text/plain": [
       "<IPython.core.display.HTML object>"
      ]
     },
     "metadata": {},
     "output_type": "display_data"
    },
    {
     "data": {
      "text/html": [
       "<span style=\"color:cyan\"> |-Trial ID: a44824f426fe716d075801d6b8a29d68</span>"
      ],
      "text/plain": [
       "<IPython.core.display.HTML object>"
      ]
     },
     "metadata": {},
     "output_type": "display_data"
    },
    {
     "data": {
      "text/html": [
       "<span style=\"color:cyan\"> |-Score: 0.6455913384755453</span>"
      ],
      "text/plain": [
       "<IPython.core.display.HTML object>"
      ]
     },
     "metadata": {},
     "output_type": "display_data"
    },
    {
     "data": {
      "text/html": [
       "<span style=\"color:cyan\"> |-Best step: 0</span>"
      ],
      "text/plain": [
       "<IPython.core.display.HTML object>"
      ]
     },
     "metadata": {},
     "output_type": "display_data"
    },
    {
     "data": {
      "text/html": [
       "<span style=\"color:#7E57C2\"><h2 style=\"font-size:16px\">Hyperparameters:</h2></span>"
      ],
      "text/plain": [
       "<IPython.core.display.HTML object>"
      ]
     },
     "metadata": {},
     "output_type": "display_data"
    },
    {
     "data": {
      "text/html": [
       "<span style=\"color:cyan\"> |-activation_input: relu</span>"
      ],
      "text/plain": [
       "<IPython.core.display.HTML object>"
      ]
     },
     "metadata": {},
     "output_type": "display_data"
    },
    {
     "data": {
      "text/html": [
       "<span style=\"color:blue\"> |-dropout_input: 0.35000000000000003</span>"
      ],
      "text/plain": [
       "<IPython.core.display.HTML object>"
      ]
     },
     "metadata": {},
     "output_type": "display_data"
    },
    {
     "data": {
      "text/html": [
       "<span style=\"color:#4527A0\"><h1 style=\"font-size:18px\">Trial summary</h1></span>"
      ],
      "text/plain": [
       "<IPython.core.display.HTML object>"
      ]
     },
     "metadata": {},
     "output_type": "display_data"
    },
    {
     "data": {
      "text/html": [
       "<span style=\"color:cyan\"> |-Trial ID: ad7dbb76269918d0e2da30013b34b880</span>"
      ],
      "text/plain": [
       "<IPython.core.display.HTML object>"
      ]
     },
     "metadata": {},
     "output_type": "display_data"
    },
    {
     "data": {
      "text/html": [
       "<span style=\"color:cyan\"> |-Score: 0.6492112477620443</span>"
      ],
      "text/plain": [
       "<IPython.core.display.HTML object>"
      ]
     },
     "metadata": {},
     "output_type": "display_data"
    },
    {
     "data": {
      "text/html": [
       "<span style=\"color:cyan\"> |-Best step: 0</span>"
      ],
      "text/plain": [
       "<IPython.core.display.HTML object>"
      ]
     },
     "metadata": {},
     "output_type": "display_data"
    },
    {
     "data": {
      "text/html": [
       "<span style=\"color:#7E57C2\"><h2 style=\"font-size:16px\">Hyperparameters:</h2></span>"
      ],
      "text/plain": [
       "<IPython.core.display.HTML object>"
      ]
     },
     "metadata": {},
     "output_type": "display_data"
    },
    {
     "data": {
      "text/html": [
       "<span style=\"color:cyan\"> |-activation_input: relu</span>"
      ],
      "text/plain": [
       "<IPython.core.display.HTML object>"
      ]
     },
     "metadata": {},
     "output_type": "display_data"
    },
    {
     "data": {
      "text/html": [
       "<span style=\"color:blue\"> |-dropout_input: 0.7000000000000001</span>"
      ],
      "text/plain": [
       "<IPython.core.display.HTML object>"
      ]
     },
     "metadata": {},
     "output_type": "display_data"
    },
    {
     "data": {
      "text/html": [
       "<span style=\"color:#4527A0\"><h1 style=\"font-size:18px\">Trial summary</h1></span>"
      ],
      "text/plain": [
       "<IPython.core.display.HTML object>"
      ]
     },
     "metadata": {},
     "output_type": "display_data"
    },
    {
     "data": {
      "text/html": [
       "<span style=\"color:cyan\"> |-Trial ID: 7b410777aa900c3bbc90e685e5c47af8</span>"
      ],
      "text/plain": [
       "<IPython.core.display.HTML object>"
      ]
     },
     "metadata": {},
     "output_type": "display_data"
    },
    {
     "data": {
      "text/html": [
       "<span style=\"color:cyan\"> |-Score: 0.6496395071347555</span>"
      ],
      "text/plain": [
       "<IPython.core.display.HTML object>"
      ]
     },
     "metadata": {},
     "output_type": "display_data"
    },
    {
     "data": {
      "text/html": [
       "<span style=\"color:cyan\"> |-Best step: 0</span>"
      ],
      "text/plain": [
       "<IPython.core.display.HTML object>"
      ]
     },
     "metadata": {},
     "output_type": "display_data"
    },
    {
     "data": {
      "text/html": [
       "<span style=\"color:#7E57C2\"><h2 style=\"font-size:16px\">Hyperparameters:</h2></span>"
      ],
      "text/plain": [
       "<IPython.core.display.HTML object>"
      ]
     },
     "metadata": {},
     "output_type": "display_data"
    },
    {
     "data": {
      "text/html": [
       "<span style=\"color:cyan\"> |-activation_input: selu</span>"
      ],
      "text/plain": [
       "<IPython.core.display.HTML object>"
      ]
     },
     "metadata": {},
     "output_type": "display_data"
    },
    {
     "data": {
      "text/html": [
       "<span style=\"color:blue\"> |-dropout_input: 0.5</span>"
      ],
      "text/plain": [
       "<IPython.core.display.HTML object>"
      ]
     },
     "metadata": {},
     "output_type": "display_data"
    },
    {
     "data": {
      "text/html": [
       "<span style=\"color:#4527A0\"><h1 style=\"font-size:18px\">Trial summary</h1></span>"
      ],
      "text/plain": [
       "<IPython.core.display.HTML object>"
      ]
     },
     "metadata": {},
     "output_type": "display_data"
    },
    {
     "data": {
      "text/html": [
       "<span style=\"color:cyan\"> |-Trial ID: 37f4f66e3e3359557460aaea288217c4</span>"
      ],
      "text/plain": [
       "<IPython.core.display.HTML object>"
      ]
     },
     "metadata": {},
     "output_type": "display_data"
    },
    {
     "data": {
      "text/html": [
       "<span style=\"color:cyan\"> |-Score: 0.6505590677261353</span>"
      ],
      "text/plain": [
       "<IPython.core.display.HTML object>"
      ]
     },
     "metadata": {},
     "output_type": "display_data"
    },
    {
     "data": {
      "text/html": [
       "<span style=\"color:cyan\"> |-Best step: 0</span>"
      ],
      "text/plain": [
       "<IPython.core.display.HTML object>"
      ]
     },
     "metadata": {},
     "output_type": "display_data"
    },
    {
     "data": {
      "text/html": [
       "<span style=\"color:#7E57C2\"><h2 style=\"font-size:16px\">Hyperparameters:</h2></span>"
      ],
      "text/plain": [
       "<IPython.core.display.HTML object>"
      ]
     },
     "metadata": {},
     "output_type": "display_data"
    },
    {
     "data": {
      "text/html": [
       "<span style=\"color:cyan\"> |-activation_input: selu</span>"
      ],
      "text/plain": [
       "<IPython.core.display.HTML object>"
      ]
     },
     "metadata": {},
     "output_type": "display_data"
    },
    {
     "data": {
      "text/html": [
       "<span style=\"color:blue\"> |-dropout_input: 0.7000000000000001</span>"
      ],
      "text/plain": [
       "<IPython.core.display.HTML object>"
      ]
     },
     "metadata": {},
     "output_type": "display_data"
    },
    {
     "data": {
      "text/html": [
       "<span style=\"color:#4527A0\"><h1 style=\"font-size:18px\">Trial summary</h1></span>"
      ],
      "text/plain": [
       "<IPython.core.display.HTML object>"
      ]
     },
     "metadata": {},
     "output_type": "display_data"
    },
    {
     "data": {
      "text/html": [
       "<span style=\"color:cyan\"> |-Trial ID: fc7aaedcaea99f312d525d35c181aa56</span>"
      ],
      "text/plain": [
       "<IPython.core.display.HTML object>"
      ]
     },
     "metadata": {},
     "output_type": "display_data"
    },
    {
     "data": {
      "text/html": [
       "<span style=\"color:cyan\"> |-Score: 0.6531088948249817</span>"
      ],
      "text/plain": [
       "<IPython.core.display.HTML object>"
      ]
     },
     "metadata": {},
     "output_type": "display_data"
    },
    {
     "data": {
      "text/html": [
       "<span style=\"color:cyan\"> |-Best step: 0</span>"
      ],
      "text/plain": [
       "<IPython.core.display.HTML object>"
      ]
     },
     "metadata": {},
     "output_type": "display_data"
    },
    {
     "data": {
      "text/html": [
       "<span style=\"color:#7E57C2\"><h2 style=\"font-size:16px\">Hyperparameters:</h2></span>"
      ],
      "text/plain": [
       "<IPython.core.display.HTML object>"
      ]
     },
     "metadata": {},
     "output_type": "display_data"
    },
    {
     "data": {
      "text/html": [
       "<span style=\"color:cyan\"> |-activation_input: relu</span>"
      ],
      "text/plain": [
       "<IPython.core.display.HTML object>"
      ]
     },
     "metadata": {},
     "output_type": "display_data"
    },
    {
     "data": {
      "text/html": [
       "<span style=\"color:blue\"> |-dropout_input: 0.05</span>"
      ],
      "text/plain": [
       "<IPython.core.display.HTML object>"
      ]
     },
     "metadata": {},
     "output_type": "display_data"
    }
   ],
   "source": [
    "\n",
    "# Retrive best model.\n",
    "models = tuner.get_best_models(num_models=1)\n",
    "tuner.results_summary()\n",
    "\n",
    "\n"
   ]
  },
  {
   "cell_type": "code",
   "execution_count": 26,
   "metadata": {},
   "outputs": [
    {
     "ename": "AttributeError",
     "evalue": "'list' object has no attribute 'fit'",
     "output_type": "error",
     "traceback": [
      "\u001b[1;31m---------------------------------------------------------------------------\u001b[0m",
      "\u001b[1;31mAttributeError\u001b[0m                            Traceback (most recent call last)",
      "\u001b[1;32m<ipython-input-26-43825dd20fee>\u001b[0m in \u001b[0;36m<module>\u001b[1;34m\u001b[0m\n\u001b[1;32m----> 1\u001b[1;33m \u001b[0mmodels\u001b[0m\u001b[1;33m.\u001b[0m\u001b[0mfit\u001b[0m\u001b[1;33m\u001b[0m\u001b[1;33m\u001b[0m\u001b[0m\n\u001b[0m",
      "\u001b[1;31mAttributeError\u001b[0m: 'list' object has no attribute 'fit'"
     ]
    }
   ],
   "source": [
    "models.fit\n"
   ]
  },
  {
   "cell_type": "code",
   "execution_count": null,
   "metadata": {},
   "outputs": [],
   "source": [
    "loss = deepsurvk.negative_log_likelihood(E_train)\n",
    "dsk.compile(loss=loss)"
   ]
  },
  {
   "cell_type": "code",
   "execution_count": null,
   "metadata": {},
   "outputs": [],
   "source": [
    "callbacks = deepsurvk.common_callbacks()\n",
    "\n",
    "epochs = 500\n",
    "history = dsk.fit(X_train, Y_train, \n",
    "                  batch_size=n_patients_train,\n",
    "                  epochs=epochs, \n",
    "                  callbacks=callbacks,\n",
    "                  shuffle=False)"
   ]
  },
  {
   "cell_type": "code",
   "execution_count": null,
   "metadata": {},
   "outputs": [],
   "source": [
    "deepsurvk.plot_loss(history)"
   ]
  },
  {
   "cell_type": "code",
   "execution_count": null,
   "metadata": {
    "lines_to_next_cell": 3
   },
   "outputs": [],
   "source": [
    "# Perform predictions for test data (sanity check)\n",
    "Y_pred_test = np.exp(-dsk.predict(X_test))\n",
    "c_index_test = deepsurvk.concordance_index(Y_test, Y_pred_test, E_test)\n",
    "print(f\"c-index of testing dataset = {c_index_test}\")"
   ]
  }
 ],
 "metadata": {
  "jupytext": {
   "formats": "ipynb,py:percent"
  },
  "kernelspec": {
   "display_name": "Python 3",
   "language": "python",
   "name": "python3"
  },
  "language_info": {
   "codemirror_mode": {
    "name": "ipython",
    "version": 3
   },
   "file_extension": ".py",
   "mimetype": "text/x-python",
   "name": "python",
   "nbconvert_exporter": "python",
   "pygments_lexer": "ipython3",
   "version": "3.7.6"
  }
 },
 "nbformat": 4,
 "nbformat_minor": 4
}
